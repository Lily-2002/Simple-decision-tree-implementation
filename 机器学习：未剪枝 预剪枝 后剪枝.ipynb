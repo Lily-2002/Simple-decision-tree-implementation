{
 "cells": [
  {
   "cell_type": "code",
   "execution_count": 296,
   "metadata": {},
   "outputs": [],
   "source": [
    "import pandas as pd\n",
    "\n",
    "import numpy as np\n",
    "from scipy.stats import norm\n",
    "import queue\n",
    "from ctypes import string_at\n",
    "from sys import getsizeof\n",
    "import ctypes\n",
    "from binascii import hexlify\n",
    "%matplotlib inline\n",
    "#以上操作导入包"
   ]
  },
  {
   "cell_type": "code",
   "execution_count": 297,
   "metadata": {},
   "outputs": [],
   "source": [
    "df_train = pd.read_csv(r\"C:\\Users\\fulian\\Desktop\\tarinset.csv\",encoding='utf-8')\n",
    "df_test = pd.read_csv(r\"C:\\Users\\fulian\\Desktop\\test.csv\",encoding='utf-8')\n",
    "df_train = df_train.drop(df_train.columns[[0]], axis=1)\n",
    "df_test = df_test.drop(df_test.columns[[0]], axis=1)"
   ]
  },
  {
   "cell_type": "code",
   "execution_count": 298,
   "metadata": {},
   "outputs": [
    {
     "name": "stdout",
     "output_type": "stream",
     "text": [
      "[[' 乌黑', ' 青绿', ' 浅白'], [' 蜷缩', ' 稍蜷', ' 硬挺'], [' 沉闷', ' 清脆', ' 浊响'], [' 稍糊', ' 清晰', ' 模糊'], [' 凹陷', ' 稍凹', ' 平坦'], [' 硬滑', ' 软粘']]\n"
     ]
    }
   ],
   "source": [
    "def featrue_split_list(df):\n",
    "    c = []\n",
    "    for i in range(0,df.shape[1] -1):\n",
    "         featrues = set()\n",
    "         for j in range(0,df.shape[0]):\n",
    "            featrues.add(df.iat[j,i])\n",
    "         a = list(featrues)\n",
    "         \n",
    "         c.append(a)\n",
    "    \n",
    "    return c\n",
    "featrues = featrue_split_list(df_train)\n",
    "l = (len(featrues))\n",
    "print(featrues)"
   ]
  },
  {
   "cell_type": "code",
   "execution_count": 299,
   "metadata": {},
   "outputs": [],
   "source": [
    "def B(x):\n",
    "    return -x*np.log2(x)-(1-x)*np.log2(1-x)"
   ]
  },
  {
   "cell_type": "code",
   "execution_count": 300,
   "metadata": {},
   "outputs": [],
   "source": [
    "class tree:\n",
    "    def __init__(self,val):\n",
    "        self.key = val\n",
    "        self.left = None\n",
    "        self.right = None\n",
    "        self.middle = None\n",
    "        self.root = val\n",
    "    def insert(self,val):\n",
    "      if isinstance(val,tree):\n",
    "          if self.key != None:\n",
    "             if self.left is None:\n",
    "               self.left = val\n",
    "            \n",
    "             elif self.middle is None:\n",
    "               self.middle = val\n",
    "            \n",
    "             elif self.right is None:\n",
    "                self.right = val\n",
    "          else:\n",
    "            self.key = val\n",
    "      else:\n",
    "       if self.key != None:\n",
    "         if self.left is None:\n",
    "            self.left = tree(val)\n",
    "            \n",
    "         elif self.middle is None:\n",
    "            self.middle = tree(val)\n",
    "            \n",
    "         elif self.right is None:\n",
    "            self.right = tree(val)\n",
    "              \n",
    "         \n",
    "       else:\n",
    "         self.key = val\n",
    "    \n",
    "\n",
    "\n",
    "\n",
    "    def printValues(self):\n",
    "       if self.left:\n",
    "         self.left.printValues()\n",
    "       print(self.key)\n",
    "       if self.middle:\n",
    "          self.middle.printValues()\n",
    "       if self.right:\n",
    "          self.right.printValues()\n",
    "    def printlayer(self):\n",
    "       q=queue.Queue(100)\n",
    "       q.put(self)\n",
    "       while q.empty() ==False:\n",
    "          p = q.get()\n",
    "          print(p.key)\n",
    "          if p.left != None:\n",
    "             q.put(p.left)\n",
    "          if p.middle != None:\n",
    "             q.put(p.middle)\n",
    "          if p.right != None:\n",
    "             q.put(p.right)\n",
    "          \n",
    "          \n",
    "\n",
    "    \n",
    "\n",
    "\n",
    "    \n",
    "\n"
   ]
  },
  {
   "cell_type": "code",
   "execution_count": 301,
   "metadata": {},
   "outputs": [],
   "source": [
    "def all_split(df,a):\n",
    "    i = 0\n",
    "    for x in range(df.shape[0]):\n",
    "        for j in range(df.shape[1]):\n",
    "            if df.iat[x,j] == a:\n",
    "                i = j\n",
    "    data_split =  pd.DataFrame()\n",
    "    for u in range(0,df.shape[0]):\n",
    "         if df.iat[u,i] == a:\n",
    "            data_split =data_split.append(df.iloc[u,:])\n",
    "    return data_split   \n",
    "\n",
    "\n",
    "     \n"
   ]
  },
  {
   "cell_type": "code",
   "execution_count": 302,
   "metadata": {},
   "outputs": [],
   "source": [
    "\n",
    "listexp = [' 是',' 否']\n",
    "def Ginichoose(parent,a):\n",
    "    min = 1000\n",
    "    best = 0\n",
    "    for i in range(len(a)):\n",
    "        sum2 = 0\n",
    "        Gini = 0\n",
    "        split = pd.DataFrame()\n",
    "        for j in range(len(a[i])):\n",
    "            sumsub = 0\n",
    "            split = all_split(parent,a[i][j])\n",
    "            for u in range(split.shape[0]):\n",
    "                if split.iat[u,split.shape[1] - 1] == listexp[0]:\n",
    "                    sumsub += 1\n",
    "            if split.shape[0] != 0:\n",
    "                sum2 = 1- (sumsub/split.shape[0])*(sumsub/split.shape[0])-((split.shape[0]-sumsub)/split.shape[0])*((split.shape[0]-sumsub)/split.shape[0])\n",
    "            Gini = Gini + sum2*(split.shape[0]/parent.shape[0])\n",
    "        \n",
    "        if Gini < min :\n",
    "            best = i\n",
    "            min = Gini\n",
    "    \n",
    "    return a[best]\n"
   ]
  },
  {
   "cell_type": "code",
   "execution_count": 303,
   "metadata": {},
   "outputs": [],
   "source": [
    "def delet(featrues_pre,featrues_deleted):\n",
    "    f = -1\n",
    "    for i in range(len(featrues_pre)):\n",
    "        for j in range(len(featrues_pre[i])):\n",
    "            if featrues_pre[i][j] == featrues_deleted[0]:\n",
    "                f =i\n",
    "                break\n",
    "    if f>=0:\n",
    "        del featrues_pre[f]\n",
    "      \n",
    "    return featrues_pre\n",
    " \n"
   ]
  },
  {
   "cell_type": "code",
   "execution_count": 304,
   "metadata": {},
   "outputs": [],
   "source": [
    "def same_class(df):\n",
    "    for i in range(df.shape[0]):\n",
    "        if df.iat[i,df.shape[1] - 1] != df.iat[0,df.shape[1] - 1]:\n",
    "            return False\n",
    "    return True\n",
    "\n",
    "    "
   ]
  },
  {
   "cell_type": "code",
   "execution_count": 305,
   "metadata": {},
   "outputs": [],
   "source": [
    "def mode(df):\n",
    "    listresult =[' 是',' 否']\n",
    "    sum1 = 0\n",
    "    sum2 = 0\n",
    "    list_mode = []\n",
    "    for i in range(df.shape[0]):\n",
    "        if df.iat[i,df.shape[1] - 1] == listresult[0]:\n",
    "            \n",
    "            sum1 += 1\n",
    "        else:\n",
    "            sum2 += 1\n",
    "    if sum1 > sum2:\n",
    "        list_mode.append(listresult[0])\n",
    "    else:\n",
    "        list_mode.append(listresult[1])  \n",
    "    list_mode_result = pd.DataFrame(list_mode)\n",
    "    return list_mode\n",
    "\n",
    "\n"
   ]
  },
  {
   "cell_type": "code",
   "execution_count": 306,
   "metadata": {},
   "outputs": [],
   "source": [
    "def DTL(examples,featrues,parent_examples):\n",
    "    if examples.empty == True:\n",
    "        return parent_examples\n",
    "    elif same_class(examples) == True:\n",
    "        return mode(examples)\n",
    "    elif len(featrues) == 0:\n",
    "        return mode(examples)\n",
    "    else:\n",
    "        \n",
    "        best = Ginichoose(examples,featrues)\n",
    "        Tree = tree(best)\n",
    "        root = Tree\n",
    "        for q in range(len(best)):\n",
    "            examplesub = all_split(examples,best[q])\n",
    "            temp = []\n",
    "            temp.append(best[q])\n",
    "            subtree = DTL(examplesub,delet(featrues,best),mode(examples))\n",
    "            \n",
    "            if Tree.left == None:\n",
    "                Tree.insert(temp)\n",
    "                Tree = Tree.left\n",
    "\n",
    "            elif Tree.middle == None:\n",
    "                Tree.insert(temp)\n",
    "                Tree = Tree.middle\n",
    "\n",
    "            elif Tree.right == None:\n",
    "                Tree.insert(temp)\n",
    "                Tree = Tree.right\n",
    "            Tree.insert(subtree)\n",
    "            Tree = root  \n",
    "            \n",
    "        return Tree\n",
    "\n"
   ]
  },
  {
   "cell_type": "code",
   "execution_count": 307,
   "metadata": {},
   "outputs": [
    {
     "name": "stdout",
     "output_type": "stream",
     "text": [
      "未剪枝决策树\n",
      "[' 乌黑', ' 青绿', ' 浅白']\n",
      "[' 乌黑']\n",
      "[' 青绿']\n",
      "[' 浅白']\n",
      "[' 蜷缩', ' 稍蜷', ' 硬挺']\n",
      "[' 沉闷', ' 清脆', ' 浊响']\n",
      "[' 否']\n",
      "[' 蜷缩']\n",
      "[' 稍蜷']\n",
      "[' 硬挺']\n",
      "[' 沉闷']\n",
      "[' 清脆']\n",
      "[' 浊响']\n",
      "[' 是']\n",
      "[' 稍糊', ' 清晰', ' 模糊']\n",
      "[' 是']\n",
      "[' 否']\n",
      "[' 否']\n",
      "[' 是']\n",
      "[' 稍糊']\n",
      "[' 清晰']\n",
      "[' 模糊']\n",
      "[' 是']\n",
      "[' 否']\n",
      "[' 否']\n"
     ]
    }
   ],
   "source": [
    "\n",
    "print(\"未剪枝决策树\")\n",
    "DTL(df_train,featrue_split_list(df_train),None).printlayer()\n",
    "# Full_tree = DTL(df_train,featrue_split_list(df_train),None)\n",
    "# Full_tree.printlayer()\n"
   ]
  },
  {
   "cell_type": "code",
   "execution_count": 308,
   "metadata": {},
   "outputs": [],
   "source": [
    "global p \n",
    "p = []"
   ]
  },
  {
   "cell_type": "code",
   "execution_count": 309,
   "metadata": {},
   "outputs": [],
   "source": [
    "def all_split_index(df,a):\n",
    "    index = []\n",
    "    for x in range(df.shape[0]):\n",
    "        for j in range(df.shape[1]):\n",
    "            if df.iat[x,j] == a:\n",
    "                index.append(x)\n",
    "    \n",
    "    return index \n"
   ]
  },
  {
   "cell_type": "code",
   "execution_count": 310,
   "metadata": {},
   "outputs": [],
   "source": [
    "def if_pruning(df):\n",
    "   \n",
    "    if len(p) == 1:\n",
    "        s = 0\n",
    "        for i in range(len(p[0])):\n",
    "            t1 = all_split(df,p[0][i])\n",
    "            for j in range(t1.shape[0]):\n",
    "                if t1.iat[j,t1.shape[1] - 1] == mode(t1)[0]:\n",
    "                    s += 1\n",
    "        ratio1 = s/df_train.shape[0]\n",
    "    else:\n",
    "        a = p[1]\n",
    "        b = p[0]\n",
    "        parent_split = all_split_index(df,a)\n",
    "        s = 0\n",
    "        for j in range(len(b)):\n",
    "            child_split = all_split_index(df,b[j])\n",
    "            t1 = all_split(df,a)\n",
    "            t = all_split(t1,b[j])\n",
    "            \n",
    "            for i in range(df.shape[0]):\n",
    "                if i in parent_split and i in child_split:\n",
    "                    if df.iat[i,df.shape[1] - 1] == mode(t)[0]:\n",
    "                        s += 1\n",
    "            for i in range(df.shape[0]):\n",
    "                if i in parent_split and i not in child_split:\n",
    "                    if df.iat[i,df.shape[1] - 1] == mode(t)[0]:\n",
    "                        s += 1\n",
    "        ratio1 = s/df_train.shape[0]\n",
    "    \n",
    "    return ratio1\n",
    "\n",
    "    "
   ]
  },
  {
   "cell_type": "code",
   "execution_count": 311,
   "metadata": {},
   "outputs": [],
   "source": [
    "\n",
    "def DTLpre(examples,featrues,parent_examples,ratio0):\n",
    "    if examples.empty == True:\n",
    "        return parent_examples\n",
    "    elif same_class(examples) == True:\n",
    "        return mode(examples)\n",
    "    elif len(featrues) == 0:\n",
    "        return mode(examples)\n",
    "    else:\n",
    "        best = Ginichoose(examples,featrues)\n",
    "        p.append(best)\n",
    "        \n",
    "        ratio = if_pruning(df_train)\n",
    "        if ratio < ratio0:\n",
    "            return mode(examples)\n",
    "        p.clear()\n",
    "        Tree = tree(best)\n",
    "        root = Tree\n",
    "        for q in range(len(best)):\n",
    "            examplesub = all_split(examples,best[q])\n",
    "            p.append(best[q])\n",
    "            subtree = DTLpre(examplesub,delet(featrues,best),mode(examples),ratio)\n",
    "            \n",
    "            if Tree.left == None:\n",
    "                Tree.insert(best[q])\n",
    "                Tree = Tree.left\n",
    "\n",
    "            elif Tree.middle == None:\n",
    "                Tree.insert(best[q])\n",
    "                Tree = Tree.middle\n",
    "\n",
    "            elif Tree.right == None:\n",
    "                Tree.insert(best[q])\n",
    "                Tree = Tree.right\n",
    "            \n",
    "            Tree.insert(subtree)\n",
    "            #p.clear()\n",
    "            Tree = root  \n",
    "        return Tree\n",
    "\n"
   ]
  },
  {
   "cell_type": "code",
   "execution_count": 312,
   "metadata": {},
   "outputs": [
    {
     "name": "stdout",
     "output_type": "stream",
     "text": [
      "预剪枝决策树\n",
      "[' 乌黑', ' 青绿', ' 浅白']\n",
      " 乌黑\n",
      " 青绿\n",
      " 浅白\n",
      "[' 是']\n",
      "[' 否']\n",
      "[' 否']\n"
     ]
    }
   ],
   "source": [
    "print(\"预剪枝决策树\")\n",
    "DTLpre(df_train,featrue_split_list(df_train),None,3/7).printlayer()\n"
   ]
  },
  {
   "cell_type": "code",
   "execution_count": 313,
   "metadata": {},
   "outputs": [],
   "source": [
    "p.clear()\n",
    "global ltree \n",
    "ltree = []"
   ]
  },
  {
   "cell_type": "code",
   "execution_count": 314,
   "metadata": {},
   "outputs": [],
   "source": [
    "def binaryTreePaths(root):\n",
    "       \n",
    "        def construct_paths(root, path):\n",
    "            if root:\n",
    "                path += str(root.key)\n",
    "                if not root.left and not root.right:  # 当前节点是叶子节点\n",
    "                    paths.append(path)  # 把路径加入到答案中\n",
    "                else:\n",
    "                    path += '->'  # 当前节点不是叶子节点，继续递归遍历\n",
    "                    construct_paths(root.left, path)\n",
    "                    construct_paths(root.middle, path)\n",
    "                    construct_paths(root.right, path)\n",
    "\n",
    "        paths = []\n",
    "        construct_paths(root, '')\n",
    "        return paths\n"
   ]
  },
  {
   "cell_type": "code",
   "execution_count": 315,
   "metadata": {},
   "outputs": [],
   "source": [
    "def if_pruning_last(df):\n",
    "    \n",
    "    return"
   ]
  },
  {
   "cell_type": "code",
   "execution_count": 316,
   "metadata": {},
   "outputs": [
    {
     "name": "stdout",
     "output_type": "stream",
     "text": [
      "[' 乌黑', ' 青绿', ' 浅白']->[' 乌黑']->[' 蜷缩', ' 稍蜷', ' 硬挺']->[' 稍蜷']->[' 稍糊', ' 清晰', ' 模糊']->[' 稍糊']->[' 是']\n",
      "[' 蜷缩', ' 稍蜷', ' 硬挺']\n"
     ]
    }
   ],
   "source": [
    "Full_tree = DTL(df_train,featrue_split_list(df_train),None)\n",
    "a = binaryTreePaths(Full_tree)\n",
    "print(a[1])\n",
    "a[1].split('->')\n",
    "s = a[1].split('->')\n",
    "print(s[2])"
   ]
  },
  {
   "cell_type": "code",
   "execution_count": null,
   "metadata": {},
   "outputs": [],
   "source": [
    "\n"
   ]
  }
 ],
 "metadata": {
  "interpreter": {
   "hash": "a05681263dd12b455b6014b7c2d5811e6711e34dc74bd273ab426fde9fdea5f8"
  },
  "kernelspec": {
   "display_name": "Python 3.8.8 ('base')",
   "language": "python",
   "name": "python3"
  },
  "language_info": {
   "codemirror_mode": {
    "name": "ipython",
    "version": 3
   },
   "file_extension": ".py",
   "mimetype": "text/x-python",
   "name": "python",
   "nbconvert_exporter": "python",
   "pygments_lexer": "ipython3",
   "version": "3.8.8"
  },
  "orig_nbformat": 4
 },
 "nbformat": 4,
 "nbformat_minor": 2
}
