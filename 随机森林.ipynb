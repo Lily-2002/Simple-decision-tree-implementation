{
 "cells": [
  {
   "cell_type": "code",
   "execution_count": 155,
   "metadata": {},
   "outputs": [],
   "source": [
    "import pandas as pd\n",
    "\n",
    "import numpy as np\n",
    "from scipy.stats import norm\n",
    "import queue\n",
    "from ctypes import string_at\n",
    "from sys import getsizeof\n",
    "import ctypes\n",
    "from binascii import hexlify\n",
    "import math\n",
    "from collections import defaultdict\n",
    "import random\n",
    "import seaborn as sns\n",
    "import matplotlib.pyplot as plt\n",
    "import random\n",
    "import matplotlib\n",
    "%matplotlib inline\n",
    "#以上操作导入包"
   ]
  },
  {
   "cell_type": "code",
   "execution_count": 156,
   "metadata": {},
   "outputs": [
    {
     "name": "stdout",
     "output_type": "stream",
     "text": [
      "       密度    含糖率  好瓜    weight bucket\n",
      "0   0.697  0.460   1  0.058824       \n",
      "1   0.774  0.376   1  0.058824       \n",
      "2   0.634  0.264   1  0.058824       \n",
      "3   0.608  0.318   1  0.058824       \n",
      "4   0.556  0.215   1  0.058824       \n",
      "5   0.403  0.237   1  0.058824       \n",
      "6   0.481  0.149   1  0.058824       \n",
      "7   0.437  0.211   1  0.058824       \n",
      "8   0.666  0.091   0  0.058824       \n",
      "9   0.243  0.267   0  0.058824       \n",
      "10  0.245  0.057   0  0.058824       \n",
      "11  0.343  0.099   0  0.058824       \n",
      "12  0.639  0.161   0  0.058824       \n",
      "13  0.657  0.198   0  0.058824       \n",
      "14  0.360  0.370   0  0.058824       \n",
      "15  0.593  0.042   0  0.058824       \n",
      "16  0.719  0.103   0  0.058824       \n",
      "16\n"
     ]
    }
   ],
   "source": [
    "df_train = pd.read_csv(r\"C:\\Users\\fulian\\Desktop\\trainada.csv\")\n",
    "df_train[\"weight\"] = 1/df_train.shape[0]\n",
    "df_train[\"bucket\"] = \"\"\n",
    "print(df_train)\n",
    "print(df_train.shape[0] - 1)"
   ]
  },
  {
   "cell_type": "code",
   "execution_count": 157,
   "metadata": {},
   "outputs": [
    {
     "name": "stderr",
     "output_type": "stream",
     "text": [
      "c:\\Users\\fulian\\anaconda3\\lib\\site-packages\\seaborn\\distributions.py:2557: FutureWarning: `distplot` is a deprecated function and will be removed in a future version. Please adapt your code to use either `displot` (a figure-level function with similar flexibility) or `histplot` (an axes-level function for histograms).\n",
      "  warnings.warn(msg, FutureWarning)\n"
     ]
    },
    {
     "data": {
      "text/plain": [
       "<matplotlib.legend.Legend at 0x2252ac47220>"
      ]
     },
     "execution_count": 157,
     "metadata": {},
     "output_type": "execute_result"
    },
    {
     "data": {
      "image/png": "[encoded data removed]",
      "text/plain": [
       "<Figure size 432x288 with 1 Axes>"
      ]
     },
     "metadata": {
      "needs_background": "light"
     },
     "output_type": "display_data"
    }
   ],
   "source": [
    "sns.distplot(a=df_train['密度'], label=\"密度\", kde=False)\n",
    "sns.distplot(a=df_train['含糖率'], label=\"含糖率\", kde=False)\n",
    "plt.legend()"
   ]
  },
  {
   "cell_type": "code",
   "execution_count": 158,
   "metadata": {},
   "outputs": [],
   "source": [
    "p = {}\n",
    "sugar = {}\n",
    "set1 = {0.40,0.57}\n",
    "set2 = {0.14,0.25}"
   ]
  },
  {
   "cell_type": "code",
   "execution_count": 159,
   "metadata": {},
   "outputs": [],
   "source": [
    "def bining(df):\n",
    "    p = {}\n",
    "    sugar = {}\n",
    "    s1 = 0\n",
    "    sy1 = 0\n",
    "    s2 = 0\n",
    "    sy2 = 0\n",
    "    s3 = 0\n",
    "    sy3 = 0\n",
    "    n1 = 0\n",
    "    ny1 = 0\n",
    "    n2 = 0\n",
    "    ny2 = 0\n",
    "    n3 = 0\n",
    "    ny3 = 0\n",
    "    for i in range(df.shape[0]):\n",
    "        if df.iat[i,0] <= 0.4:\n",
    "            s1 += 1\n",
    "            if df.iat[i,2] == 1:\n",
    "                sy1 += 1\n",
    "        if df.iat[i,0] > 0.4 and df.iat[i,0] <= 0.57:\n",
    "            s2 += 1\n",
    "            if df.iat[i,2] == 1:\n",
    "                sy2 += 1\n",
    "        if df.iat[i,0] > 0.57 :\n",
    "            s3 += 1\n",
    "            if df.iat[i,2] == 1:\n",
    "                sy3 += 1\n",
    "        if df.iat[i,1] <= 0.14:\n",
    "            n1 += 1\n",
    "            if df.iat[i,2] == 1:\n",
    "                ny1 += 1\n",
    "        if df.iat[i,1] > 0.14 and df.iat[i,1] <= 0.25:\n",
    "            n2 += 1\n",
    "            if df.iat[i,2] == 1:\n",
    "                ny2 += 1\n",
    "        if df.iat[i,1] > 0.25 :\n",
    "            n3 += 1\n",
    "            if df.iat[i,2] == 1:\n",
    "                ny3 += 1\n",
    "    p['低密度'] = sy1/s1\n",
    "    p['中密度'] = sy2/s2\n",
    "    p['高密度'] = sy3/s3\n",
    "    sugar['低含糖'] = ny1/n1\n",
    "    sugar['中含糖'] = ny2/n2\n",
    "    sugar['高含糖'] = ny3/n3\n",
    "    return p,sugar"
   ]
  },
  {
   "cell_type": "code",
   "execution_count": 160,
   "metadata": {},
   "outputs": [],
   "source": [
    "def random_dataset(df):\n",
    "    cols = df.columns.values\n",
    "    new_set = pd.DataFrame(columns=cols)\n",
    "    result = []\n",
    "    for i in range(df.shape[0]):\n",
    "        random.randint(0,df.shape[0] - 1)\n",
    "        result.append(i)\n",
    "    for i in range(len(result)):\n",
    "        insertRow = df.iloc[result[i], :]\n",
    "        new_set = new_set.append(insertRow)\n",
    "    return new_set\n"
   ]
  },
  {
   "cell_type": "code",
   "execution_count": 161,
   "metadata": {},
   "outputs": [
    {
     "data": {
      "text/plain": [
       "({'低密度': 0.0, '中密度': 1.0, '高密度': 0.4444444444444441},\n",
       " {'低含糖': 0.0, '中含糖': 0.666666666666667, '高含糖': 0.666666666666667})"
      ]
     },
     "execution_count": 161,
     "metadata": {},
     "output_type": "execute_result"
    }
   ],
   "source": [
    "def train(df,times):\n",
    "    sp1 = 0\n",
    "    sp2 = 0\n",
    "    sp3 = 0\n",
    "    ss1 = 0\n",
    "    ss2 = 0\n",
    "    ss3 = 0\n",
    "    t = times\n",
    "    while(t > 0):\n",
    "\n",
    "        p,sugar = bining(random_dataset(df_train))\n",
    "        sp1 = sp1 + p['低密度']\n",
    "        sp2 = sp2 + p['中密度']\n",
    "        sp3 = sp3 + p['高密度']\n",
    "        ss1 = ss1 + sugar['低含糖']\n",
    "        ss2 = ss2 + sugar['中含糖']\n",
    "        ss3 = ss3 + sugar['高含糖']\n",
    "        t -= 1\n",
    "    p['低密度'] = sp1/times\n",
    "    p['中密度'] = sp2/times\n",
    "    p['高密度'] =sp3/times\n",
    "    sugar['低含糖'] = ss1/times\n",
    "    sugar['中含糖'] = ss2/times\n",
    "    sugar['高含糖'] = ss3/times\n",
    "    return p,sugar\n",
    "train(df_train,50)\n"
   ]
  },
  {
   "cell_type": "code",
   "execution_count": 162,
   "metadata": {},
   "outputs": [
    {
     "data": {
      "image/png": "[encoded data removed]",
      "text/plain": [
       "<Figure size 432x288 with 1 Axes>"
      ]
     },
     "metadata": {
      "needs_background": "light"
     },
     "output_type": "display_data"
    }
   ],
   "source": [
    "fig, ax = plt.subplots()\n",
    "ax.scatter(df_train[\"密度\"],df_train[\"含糖率\"],c=df_train[\"好瓜\"])\n",
    "for u in set1:\n",
    "  plt.axvline(u)\n",
    "for v in set2:\n",
    "    plt.axhline(v)"
   ]
  }
 ],
 "metadata": {
  "interpreter": {
   "hash": "a05681263dd12b455b6014b7c2d5811e6711e34dc74bd273ab426fde9fdea5f8"
  },
  "kernelspec": {
   "display_name": "Python 3.8.8 ('base')",
   "language": "python",
   "name": "python3"
  },
  "language_info": {
   "codemirror_mode": {
    "name": "ipython",
    "version": 3
   },
   "file_extension": ".py",
   "mimetype": "text/x-python",
   "name": "python",
   "nbconvert_exporter": "python",
   "pygments_lexer": "ipython3",
   "version": "3.8.8"
  },
  "orig_nbformat": 4
 },
 "nbformat": 4,
 "nbformat_minor": 2
}
