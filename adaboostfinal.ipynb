{
 "cells": [
  {
   "cell_type": "code",
   "execution_count": 75,
   "metadata": {},
   "outputs": [],
   "source": [
    "import pandas as pd\n",
    "\n",
    "import numpy as np\n",
    "from scipy.stats import norm\n",
    "import queue\n",
    "from ctypes import string_at\n",
    "from sys import getsizeof\n",
    "import ctypes\n",
    "from binascii import hexlify\n",
    "import math\n",
    "from collections import defaultdict\n",
    "import random\n",
    "import seaborn as sns\n",
    "import matplotlib.pyplot as plt\n",
    "%matplotlib inline\n",
    "#以上操作导入包"
   ]
  },
  {
   "cell_type": "code",
   "execution_count": 76,
   "metadata": {},
   "outputs": [
    {
     "name": "stdout",
     "output_type": "stream",
     "text": [
      "       密度    含糖率  好瓜    weight bucket\n",
      "0   0.697  0.460   1  0.058824       \n",
      "1   0.774  0.376   1  0.058824       \n",
      "2   0.634  0.264   1  0.058824       \n",
      "3   0.608  0.318   1  0.058824       \n",
      "4   0.556  0.215   1  0.058824       \n",
      "5   0.403  0.237   1  0.058824       \n",
      "6   0.481  0.149   1  0.058824       \n",
      "7   0.437  0.211   1  0.058824       \n",
      "8   0.666  0.091   0  0.058824       \n",
      "9   0.243  0.267   0  0.058824       \n",
      "10  0.245  0.057   0  0.058824       \n",
      "11  0.343  0.099   0  0.058824       \n",
      "12  0.639  0.161   0  0.058824       \n",
      "13  0.657  0.198   0  0.058824       \n",
      "14  0.360  0.370   0  0.058824       \n",
      "15  0.593  0.042   0  0.058824       \n",
      "16  0.719  0.103   0  0.058824       \n"
     ]
    }
   ],
   "source": [
    "df_train = pd.read_csv(r\"C:\\Users\\fulian\\Desktop\\trainada.csv\")\n",
    "df_train[\"weight\"] = 1/df_train.shape[0]\n",
    "df_train[\"bucket\"] = \"\"\n",
    "print(df_train)\n",
    "original = df_train"
   ]
  },
  {
   "cell_type": "code",
   "execution_count": 77,
   "metadata": {},
   "outputs": [],
   "source": [
    "#list1 = []\n",
    "#list2 = []\n",
    "def featrues_value(df):\n",
    "  list1 = []\n",
    "  list2 = []\n",
    "  for i in range(df.shape[0]):\n",
    "      list1.append(df.iat[i,0])\n",
    "      list2.append(df.iat[i,1])\n",
    "  return list1,list2\n"
   ]
  },
  {
   "cell_type": "code",
   "execution_count": 78,
   "metadata": {},
   "outputs": [
    {
     "name": "stdout",
     "output_type": "stream",
     "text": [
      "[0.244, 0.29400000000000004, 0.35150000000000003, 0.3815, 0.42000000000000004, 0.45899999999999996, 0.5185, 0.5745, 0.6005, 0.621, 0.6365000000000001, 0.648, 0.6615, 0.6815, 0.708, 0.7464999999999999]\n",
      "[0.0495, 0.074, 0.095, 0.101, 0.126, 0.155, 0.1795, 0.20450000000000002, 0.213, 0.22599999999999998, 0.2505, 0.2655, 0.2925, 0.344, 0.373, 0.41800000000000004]\n"
     ]
    }
   ],
   "source": [
    "def midu(a):\n",
    "    list_p = []\n",
    "    a.sort()\n",
    "    for i in range(len(a) - 1):\n",
    "        list_p.append((a[i] + a[i + 1])/2)\n",
    "    return list_p\n",
    "s1,s2 = featrues_value(df_train)\n",
    "split1 = midu(s1)\n",
    "split2 = midu(s2)\n",
    "print(split1)\n",
    "print(split2)"
   ]
  },
  {
   "cell_type": "code",
   "execution_count": 79,
   "metadata": {},
   "outputs": [],
   "source": [
    "def mode(df,best,i):\n",
    "    s1 = 0\n",
    "    s = 0\n",
    "    for j in range(df.shape[0]):\n",
    "        if df.iat[j,i] < best :\n",
    "            s += 1\n",
    "            if df.iat[j,2] == 1:\n",
    "              s1 += 1\n",
    "    if s1 > s - s1:\n",
    "        return 1\n",
    "    else:\n",
    "        return 0\n"
   ]
  },
  {
   "cell_type": "code",
   "execution_count": 80,
   "metadata": {},
   "outputs": [],
   "source": [
    "def error_ratio(df,split,col):\n",
    "    a = mode(df,split,col)\n",
    "    num = 0\n",
    "    for i in range(df.shape[0]):\n",
    "        if df.iat[i,col] < split and df.iat[i,2] != a:\n",
    "            num = num +df.iat[i,3]\n",
    "        elif df.iat[i,col] >=split and df.iat[i,2] ==a:\n",
    "            num = num +df.iat[i,3]\n",
    "    return num"
   ]
  },
  {
   "cell_type": "code",
   "execution_count": 81,
   "metadata": {},
   "outputs": [],
   "source": [
    "def Split_choose(df,x1,x2):\n",
    "    min = 1000\n",
    "    new_split = 0\n",
    "    col = 0\n",
    "    for i in range(len(x1)):\n",
    "        if error_ratio(df,x1[i],0) < min:\n",
    "            new_split = x1[i]\n",
    "            col = 0\n",
    "            min = error_ratio(df,x1[i],0)\n",
    "    for i in range(len(x2)):\n",
    "        if error_ratio(df,x2[i],1) < min:\n",
    "            new_split = x2[i]\n",
    "            col = 1\n",
    "            min = error_ratio(df,x2[i],1)\n",
    "    return new_split,col\n"
   ]
  },
  {
   "cell_type": "code",
   "execution_count": 82,
   "metadata": {},
   "outputs": [],
   "source": [
    "def update_weight(df,split,col):\n",
    "    miss = 0\n",
    "    wrong_index = []\n",
    "    a = mode(df,split,col)\n",
    "    for i in range(df.shape[0]):\n",
    "        if df.iat[i,col] < split and df.iat[i,2] != a:\n",
    "            miss = miss + df.iat[i,3]\n",
    "            wrong_index.append(i)\n",
    "        if df.iat[i,col] >= split and df.iat[i,2] == a:\n",
    "            miss = miss + df.iat[i,3]\n",
    "            wrong_index.append(i)\n",
    "    Importance = 1/2*np.log((1-miss)/miss)\n",
    "    for i in range(df.shape[0]):\n",
    "        if i in wrong_index:\n",
    "            df.iat[i,3] = df.iat[i,3] * math.exp(Importance)\n",
    "            \n",
    "        elif i not in wrong_index:\n",
    "            df.iat[i,3] = df.iat[i,3] * math.exp(-Importance)\n",
    "            \n",
    "    return df\n",
    "\n"
   ]
  },
  {
   "cell_type": "code",
   "execution_count": 83,
   "metadata": {},
   "outputs": [],
   "source": [
    "set1 = set()\n",
    "set2 = set()\n",
    "for i in range(7):\n",
    "    splitfinal,col = Split_choose(df_train,split1,split2)\n",
    "    df_train = update_weight(df_train,splitfinal,col)\n",
    "    if col == 0:\n",
    "        set1.add(splitfinal)\n",
    "    elif col == 1:\n",
    "        set2.add(splitfinal)\n",
    "    \n",
    "    \n",
    "    "
   ]
  },
  {
   "cell_type": "code",
   "execution_count": 84,
   "metadata": {},
   "outputs": [
    {
     "data": {
      "text/plain": [
       "<matplotlib.collections.PathCollection at 0x21b59440400>"
      ]
     },
     "execution_count": 84,
     "metadata": {},
     "output_type": "execute_result"
    },
    {
     "data": {
      "image/png": "[encoded data removed]",
      "text/plain": [
       "<Figure size 432x288 with 1 Axes>"
      ]
     },
     "metadata": {
      "needs_background": "light"
     },
     "output_type": "display_data"
    }
   ],
   "source": [
    "fig, ax = plt.subplots()\n",
    "for u in set1:\n",
    "  plt.axvline(u)\n",
    "for v in set2:\n",
    "    plt.axhline(v)\n",
    "ax.scatter(original[\"密度\"],original[\"含糖率\"],c=original[\"好瓜\"])"
   ]
  }
 ],
 "metadata": {
  "interpreter": {
   "hash": "a05681263dd12b455b6014b7c2d5811e6711e34dc74bd273ab426fde9fdea5f8"
  },
  "kernelspec": {
   "display_name": "Python 3.8.8 ('base')",
   "language": "python",
   "name": "python3"
  },
  "language_info": {
   "codemirror_mode": {
    "name": "ipython",
    "version": 3
   },
   "file_extension": ".py",
   "mimetype": "text/x-python",
   "name": "python",
   "nbconvert_exporter": "python",
   "pygments_lexer": "ipython3",
   "version": "3.8.8"
  },
  "orig_nbformat": 4
 },
 "nbformat": 4,
 "nbformat_minor": 2
}
